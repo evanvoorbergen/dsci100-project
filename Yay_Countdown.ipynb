{
 "cells": [
  {
   "cell_type": "code",
   "execution_count": 1,
   "id": "658ec67e-a288-460f-80e7-7a1d1867a4b8",
   "metadata": {},
   "outputs": [
    {
     "name": "stdout",
     "output_type": "stream",
     "text": [
      "This is DSCI100\n",
      "Yay! 3\n",
      "Yay! 2\n",
      "Yay! 1\n"
     ]
    }
   ],
   "source": [
    "print('This is DSCI100')\n",
    "\n",
    "n = 3\n",
    "while n>0:\n",
    "    print('Yay!', n)\n",
    "    n -= 1"
   ]
  },
  {
   "cell_type": "code",
   "execution_count": null,
   "id": "b28473c2-aae9-4da3-9da7-f85bbc77309b",
   "metadata": {},
   "outputs": [],
   "source": []
  }
 ],
 "metadata": {
  "kernelspec": {
   "display_name": "Python 3 (ipykernel)",
   "language": "python",
   "name": "python3"
  },
  "language_info": {
   "codemirror_mode": {
    "name": "ipython",
    "version": 3
   },
   "file_extension": ".py",
   "mimetype": "text/x-python",
   "name": "python",
   "nbconvert_exporter": "python",
   "pygments_lexer": "ipython3",
   "version": "3.13.5"
  }
 },
 "nbformat": 4,
 "nbformat_minor": 5
}
