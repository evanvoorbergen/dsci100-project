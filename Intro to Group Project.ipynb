{
 "cells": [
  {
   "cell_type": "markdown",
   "id": "f96a9222-63ae-4e6d-af5e-755b7f4fb72c",
   "metadata": {},
   "source": [
    "# Intro to the Group Project\n",
    "\n",
    "* choose one of three qs\n",
    "\n",
    "1. Team contract\n",
    "2. Individual  -> read project planning stage\n",
    "3. Group -> submit a report\n",
    "\n",
    "Classification & Regression : predictive algorithms\n",
    "* predict category/class or numerical value\n",
    "\n",
    "\n",
    "don't need great results\n",
    "\n",
    "\n",
    "Necessary:\n",
    "- 5 commits\n",
    "- "
   ]
  }
 ],
 "metadata": {
  "kernelspec": {
   "display_name": "R",
   "language": "R",
   "name": "ir"
  },
  "language_info": {
   "codemirror_mode": "r",
   "file_extension": ".r",
   "mimetype": "text/x-r-source",
   "name": "R",
   "pygments_lexer": "r",
   "version": "4.4.3"
  }
 },
 "nbformat": 4,
 "nbformat_minor": 5
}
